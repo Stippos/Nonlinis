{
 "cells": [
  {
   "cell_type": "markdown",
   "metadata": {},
   "source": [
    "# MS-E2122 Nonlinear Optimization\n",
    "## Exercise 1\n",
    "##### Ari Viitala\n",
    "##### 432568"
   ]
  },
  {
   "cell_type": "markdown",
   "metadata": {},
   "source": [
    "### Exercise 1.1. Extreme points of a univariate function"
   ]
  },
  {
   "cell_type": "markdown",
   "metadata": {},
   "source": [
    "We can find the stationary points of function $f$ by finding the roots of it's derivative.\n",
    "$$\n",
    "\\begin{align}\n",
    "f(x) &= 2x^4 - 5x^3 - x^2\\\\\n",
    "f'(x) &= 8x^3 - 15^2 - 2x \\\\\n",
    "\\end{align}\n",
    "$$\n",
    "\n",
    "$$\n",
    "\\begin{align}\n",
    "f'(x) &= 0 \\\\\n",
    "8x^3 - 15x^2 - 2x &= 0 \\\\\n",
    "x(8x^2 - 15x - 2) &= 0 \\\\\n",
    "\\end{align}\n",
    "$$\n",
    "\n",
    "We can immedeately see that one root is $x = 0$. The other roots can be solved from.\n",
    "\n",
    "\\begin{align}\n",
    "8x^2 - 15x - 2 &= 0 \\\\\n",
    "x &= \\frac{15 \\pm \\sqrt{15^2 - 4 \\cdot 8 \\cdot 2}}{2 \\cdot 8}\\\\\n",
    "x = 2\\ &\\lor\\ x = -\\frac{1}{8}\n",
    "\\end{align}\n",
    "\n",
    "So the stationary points of $f$ are (0, 0), (2, -12), ($-\\frac{1}{8}$, $-\\frac{51}{2048}$).\n"
   ]
  },
  {
   "cell_type": "code",
   "execution_count": 2,
   "metadata": {},
   "outputs": [
    {
     "data": {
      "text/plain": [
       "-0.02490234375"
      ]
     },
     "execution_count": 2,
     "metadata": {},
     "output_type": "execute_result"
    }
   ],
   "source": []
  },
  {
   "cell_type": "code",
   "execution_count": null,
   "metadata": {},
   "outputs": [],
   "source": [
    "1/"
   ]
  }
 ],
 "metadata": {
  "kernelspec": {
   "display_name": "Julia 1.0.0",
   "language": "julia",
   "name": "julia-1.0"
  },
  "language_info": {
   "file_extension": ".jl",
   "mimetype": "application/julia",
   "name": "julia",
   "version": "1.0.0"
  }
 },
 "nbformat": 4,
 "nbformat_minor": 2
}
